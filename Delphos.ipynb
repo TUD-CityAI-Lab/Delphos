{
 "cells": [
  {
   "cell_type": "code",
   "execution_count": null,
   "metadata": {},
   "outputs": [],
   "source": [
    "from agent import *\n",
    "pd.set_option('display.max_columns', None)\n",
    "\n",
    "case                = 'swissmetro'   \n",
    "agent_index         = 1\n",
    "path_rewards        = 'Swissmetro case/data'\n",
    "path_choice_dataset = 'swissmetro.csv'\n",
    "path_to_save        = 'Swissmetro case/experiments/trial/AIC'\n",
    "\n",
    "\n",
    "state_space_params  = {'num_vars':          5, \n",
    "                       'transformations':   ['linear', 'log', 'box-cox'], \n",
    "                       'taste':             ['generic', 'specific'], \n",
    "                       'covariates':        ['age', 'income', 'class', 'ga', 'luggage', 'gender', 'who']    \n",
    "                       }\n",
    "\n",
    "attributes          = {1: {1,2,3}, \n",
    "                       2: {1, 2, 3, 4}, \n",
    "                       3: {1, 2}\n",
    "                       }\n",
    "\n",
    "\n",
    "\n",
    "covariates          = { 'age':      [1,2,3,4,5], \n",
    "                        'income':   [1,2,3,4], \n",
    "                        'class':    [0, 1], \n",
    "                        'ga':       [0, 1], \n",
    "                        'luggage':  [0, 1, 3], \n",
    "                        'gender':   [0, 1], \n",
    "                        'who':      [0, 1, 2, 3]\n",
    "                        } \n",
    "\n",
    "num_episodes = 10\n",
    "\n",
    "reward_weights = {'AIC': 1}\n",
    "\n",
    "agent = DQNLearner(path_rewards, path_choice_dataset, path_to_save, state_space_params, num_episodes, attributes, covariates, 1, min_percentage=1, reward_weights=reward_weights)\n",
    "\n",
    "agent.train()\n",
    "agent.train()\n",
    "analyzer = AgentAnalyzer(agent)\n",
    "analyzer.plot_q_distribution(save_path=os.path.join(agent.subfolder, \"q_values_distribution.png\"))\n",
    "analyzer.plot_action_entropy(save_path=os.path.join(agent.subfolder, \"action_entropy.png\"))\n",
    "analyzer.plot_best_candidate_trajectory(save_dir=agent.subfolder)"
   ]
  }
 ],
 "metadata": {
  "kernelspec": {
   "display_name": "RL_apollo",
   "language": "python",
   "name": "python3"
  },
  "language_info": {
   "codemirror_mode": {
    "name": "ipython",
    "version": 3
   },
   "file_extension": ".py",
   "mimetype": "text/x-python",
   "name": "python",
   "nbconvert_exporter": "python",
   "pygments_lexer": "ipython3",
   "version": "3.11.9"
  }
 },
 "nbformat": 4,
 "nbformat_minor": 2
}
